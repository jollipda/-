{
  "nbformat": 4,
  "nbformat_minor": 0,
  "metadata": {
    "colab": {
      "provenance": []
    },
    "kernelspec": {
      "name": "python3",
      "display_name": "Python 3"
    },
    "language_info": {
      "name": "python"
    }
  },
  "cells": [
    {
      "cell_type": "code",
      "execution_count": null,
      "metadata": {
        "id": "xwnqNQooR5H8"
      },
      "outputs": [],
      "source": [
        "print(\"Helloworld\")"
      ]
    },
    {
      "cell_type": "code",
      "source": [
        "print(\"hello python\")"
      ],
      "metadata": {
        "id": "heA3lSv8SCMy"
      },
      "execution_count": null,
      "outputs": []
    },
    {
      "cell_type": "code",
      "source": [
        "import pylab as py\n",
        "\n",
        "x_deg= py.arange(-180,180+1)\n",
        "x_rad= py.deg2rad(x_deg)\n",
        "y= py.sin(x_rad)\n",
        "py.plot(x_deg,y)\n",
        "py.xlabel('x(deg)')\n",
        "py.ylabel('sin(x)')\n",
        "py.grid(True)"
      ],
      "metadata": {
        "id": "e5Io_BA2eDGM"
      },
      "execution_count": null,
      "outputs": []
    },
    {
      "cell_type": "code",
      "source": [],
      "metadata": {
        "id": "d4cByoPNin3j"
      },
      "execution_count": null,
      "outputs": []
    }
  ]
}